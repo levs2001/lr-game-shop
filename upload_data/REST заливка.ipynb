{
 "cells": [
  {
   "cell_type": "code",
   "execution_count": 1,
   "id": "ae0502fd",
   "metadata": {},
   "outputs": [],
   "source": [
    "import pandas as pd \n",
    "import numpy as np \n",
    "import requests\n",
    "import json\n",
    "from tqdm import tqdm\n",
    "import random"
   ]
  },
  {
   "cell_type": "code",
   "execution_count": 2,
   "id": "6d3b5e00",
   "metadata": {},
   "outputs": [],
   "source": [
    "cassandra = pd.read_csv('lang_game.csv')"
   ]
  },
  {
   "cell_type": "code",
   "execution_count": 3,
   "id": "f2282d81",
   "metadata": {},
   "outputs": [
    {
     "data": {
      "text/plain": [
       "EN    728602\n",
       "FR    728602\n",
       "RU    728602\n",
       "Name: language_code, dtype: int64"
      ]
     },
     "execution_count": 3,
     "metadata": {},
     "output_type": "execute_result"
    }
   ],
   "source": [
    "cassandra['language_code'].value_counts()"
   ]
  },
  {
   "cell_type": "code",
   "execution_count": 4,
   "id": "6fc778f2",
   "metadata": {},
   "outputs": [],
   "source": [
    "mongo = pd.read_json('static_data.json')"
   ]
  },
  {
   "cell_type": "code",
   "execution_count": 5,
   "id": "28dba141",
   "metadata": {},
   "outputs": [],
   "source": [
    "mongo = mongo.rename({'game_id': 'gameId'},axis=1)\n",
    "cassandra = cassandra.rename({'game_id': 'gameId'},axis=1)\n",
    "mongo = mongo.rename({'release_date': 'releaseDate'},axis=1)"
   ]
  },
  {
   "cell_type": "code",
   "execution_count": 6,
   "id": "29c60441",
   "metadata": {},
   "outputs": [],
   "source": [
    "start_date = pd.Timestamp('2006-01-01')\n",
    "end_date = pd.Timestamp('2024-03-31')\n",
    "num_dates = len(mongo)\n",
    "mongo['releaseDate'] = [pd.Timestamp(random.randint(start_date.value, end_date.value)) for _ in range(num_dates)]\n",
    "\n",
    "\n",
    "\n",
    "# преобразуем столбец в нужный формат\n",
    "mongo['releaseDate'] = mongo['releaseDate'].dt.strftime('%Y-%m-%dT%H:%M:%S.%f') \n",
    "mongo['releaseDate'] = mongo['releaseDate'].apply(lambda x: x[:-3]) + 'Z'"
   ]
  },
  {
   "cell_type": "code",
   "execution_count": 7,
   "id": "8208cc3c",
   "metadata": {},
   "outputs": [
    {
     "data": {
      "text/html": [
       "<div>\n",
       "<style scoped>\n",
       "    .dataframe tbody tr th:only-of-type {\n",
       "        vertical-align: middle;\n",
       "    }\n",
       "\n",
       "    .dataframe tbody tr th {\n",
       "        vertical-align: top;\n",
       "    }\n",
       "\n",
       "    .dataframe thead th {\n",
       "        text-align: right;\n",
       "    }\n",
       "</style>\n",
       "<table border=\"1\" class=\"dataframe\">\n",
       "  <thead>\n",
       "    <tr style=\"text-align: right;\">\n",
       "      <th></th>\n",
       "      <th>gameId</th>\n",
       "      <th>developer</th>\n",
       "      <th>publisher</th>\n",
       "      <th>releaseDate</th>\n",
       "      <th>genre</th>\n",
       "      <th>platform</th>\n",
       "      <th>rating</th>\n",
       "    </tr>\n",
       "  </thead>\n",
       "  <tbody>\n",
       "    <tr>\n",
       "      <th>0</th>\n",
       "      <td>0</td>\n",
       "      <td>Matt Cohen</td>\n",
       "      <td>Tonguç Bodur</td>\n",
       "      <td>2021-12-28T23:00:18.788Z</td>\n",
       "      <td>Violent,Gore,Action,Indie,RPG,Early Access</td>\n",
       "      <td>PS</td>\n",
       "      <td>8</td>\n",
       "    </tr>\n",
       "  </tbody>\n",
       "</table>\n",
       "</div>"
      ],
      "text/plain": [
       "   gameId   developer     publisher               releaseDate  \\\n",
       "0       0  Matt Cohen  Tonguç Bodur  2021-12-28T23:00:18.788Z   \n",
       "\n",
       "                                        genre platform  rating  \n",
       "0  Violent,Gore,Action,Indie,RPG,Early Access       PS       8  "
      ]
     },
     "execution_count": 7,
     "metadata": {},
     "output_type": "execute_result"
    }
   ],
   "source": [
    "mongo.head(1)"
   ]
  },
  {
   "cell_type": "code",
   "execution_count": 8,
   "id": "e6048d65",
   "metadata": {},
   "outputs": [],
   "source": [
    "mongo_json = mongo.to_dict(orient='records')"
   ]
  },
  {
   "cell_type": "code",
   "execution_count": 9,
   "id": "1c7fe376",
   "metadata": {},
   "outputs": [],
   "source": [
    "def make_dict_from_dfrow(df):\n",
    "    \"\"\" Ф-ция создает countryInfos dict\"\"\"\n",
    "    result = {}\n",
    "    for index, row in df.iterrows():\n",
    "        dict_result = {}\n",
    "        language_code = row['language_code']\n",
    "        title = row['titel']\n",
    "        description = row['decription']\n",
    "        price = row['price']\n",
    "        dict_result[language_code] = {'title': title, 'description': description, 'price': price}\n",
    "        result.update(dict_result)\n",
    "    return result"
   ]
  },
  {
   "cell_type": "code",
   "execution_count": 10,
   "id": "857fc8b2",
   "metadata": {},
   "outputs": [
    {
     "name": "stderr",
     "output_type": "stream",
     "text": [
      "100%|█████████████████████████████████████████████████████████████████████████| 728602/728602 [59:07<00:00, 205.36it/s]\n"
     ]
    }
   ],
   "source": [
    "result = []\n",
    "for record in tqdm(mongo_json):\n",
    "    commonInfo = {'commonInfo' : record}\n",
    "    \n",
    "    cassandra_id = cassandra[cassandra['gameId'] == record['gameId']]\n",
    "    countryInfos = make_dict_from_dfrow(cassandra_id)\n",
    "    countryInfos = {'countryInfos' : countryInfos}\n",
    "    \n",
    "    result_record = {\n",
    "    'commonInfo': commonInfo['commonInfo'],\n",
    "    'countryInfos': countryInfos['countryInfos']\n",
    "     }\n",
    "    result.append(result_record)\n"
   ]
  },
  {
   "cell_type": "code",
   "execution_count": 14,
   "id": "01899977",
   "metadata": {},
   "outputs": [],
   "source": [
    "import pickle\n",
    "with open('result.pkl', 'wb') as file:\n",
    "    pickle.dump(result, file)"
   ]
  },
  {
   "cell_type": "code",
   "execution_count": 15,
   "id": "6fb32563",
   "metadata": {},
   "outputs": [
    {
     "data": {
      "text/plain": [
       "728602"
      ]
     },
     "execution_count": 15,
     "metadata": {},
     "output_type": "execute_result"
    }
   ],
   "source": [
    "len(result)"
   ]
  },
  {
   "cell_type": "markdown",
   "id": "df42a1ed",
   "metadata": {},
   "source": [
    "# Main upload pipeline"
   ]
  },
  {
   "cell_type": "code",
   "execution_count": 1,
   "id": "fc223c9a",
   "metadata": {},
   "outputs": [],
   "source": [
    "import pickle"
   ]
  },
  {
   "cell_type": "code",
   "execution_count": 2,
   "id": "115f3d99",
   "metadata": {},
   "outputs": [],
   "source": [
    "with open('result.pkl', 'rb') as file:\n",
    "    result = pickle.load(file)"
   ]
  },
  {
   "cell_type": "code",
   "execution_count": 2,
   "id": "fd94e889",
   "metadata": {},
   "outputs": [],
   "source": [
    "url = 'http://localhost:8080/game-shop/add-game/'\n",
    "\n",
    "headers = {'Content-Type': 'application/json', 'accept': '*/*'}\n",
    "try:\n",
    "    for record in tqdm(result):\n",
    "        json_data = json.dumps(record)\n",
    "        response = requests.post(url, data=json_data, headers=headers)\n",
    "except Exception as e:\n",
    "    print(e)\n",
    "    print(response.text)"
   ]
  },
  {
   "cell_type": "markdown",
   "id": "b73d95b7",
   "metadata": {},
   "source": [
    "# Thread"
   ]
  },
  {
   "cell_type": "code",
   "execution_count": null,
   "id": "bc0c9616",
   "metadata": {},
   "outputs": [
    {
     "name": "stderr",
     "output_type": "stream",
     "text": [
      "88637it [21:03, 56.75it/s] "
     ]
    }
   ],
   "source": [
    "import pickle\n",
    "import json\n",
    "import requests\n",
    "from tqdm import tqdm\n",
    "from concurrent.futures import ThreadPoolExecutor\n",
    "\n",
    "with open('result.pkl', 'rb') as file:\n",
    "    result = pickle.load(file)\n",
    "\n",
    "url = 'http://localhost:8080/game-shop/add-game/'\n",
    "\n",
    "headers = {'Content-Type': 'application/json', 'accept': '*/*'}\n",
    "\n",
    "def send_request(record):\n",
    "    json_data = json.dumps(record)\n",
    "    response = requests.post(url, data=json_data, headers=headers)\n",
    "    return response\n",
    "\n",
    "pool = ThreadPoolExecutor(max_workers=5)\n",
    "\n",
    "for page in tqdm(pool.map(send_request, result)):\n",
    "    try:\n",
    "        page\n",
    "    except Exception as e:\n",
    "        print(e)\n"
   ]
  },
  {
   "cell_type": "code",
   "execution_count": null,
   "id": "0ed7d3d9",
   "metadata": {},
   "outputs": [],
   "source": []
  },
  {
   "cell_type": "code",
   "execution_count": null,
   "id": "52b86ec5",
   "metadata": {},
   "outputs": [],
   "source": []
  }
 ],
 "metadata": {
  "kernelspec": {
   "display_name": "Python 3 (ipykernel)",
   "language": "python",
   "name": "python3"
  },
  "language_info": {
   "codemirror_mode": {
    "name": "ipython",
    "version": 3
   },
   "file_extension": ".py",
   "mimetype": "text/x-python",
   "name": "python",
   "nbconvert_exporter": "python",
   "pygments_lexer": "ipython3",
   "version": "3.9.12"
  }
 },
 "nbformat": 4,
 "nbformat_minor": 5
}
